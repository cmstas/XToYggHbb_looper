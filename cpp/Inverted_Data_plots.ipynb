{
 "cells": [
  {
   "cell_type": "code",
   "execution_count": null,
   "id": "b379f066",
   "metadata": {},
   "outputs": [],
   "source": [
    "import awkward as ak\n",
    "import numpy as np\n",
    "\n",
    "import json\n",
    "\n",
    "import matplotlib.pyplot as plt\n",
    "from yahist import Hist1D, Hist2D\n",
    "#import useful packages"
   ]
  },
  {
   "cell_type": "code",
   "execution_count": null,
   "id": "2e601ef2",
   "metadata": {},
   "outputs": [],
   "source": [
    "#Load dataframe and keep only the \"Data\" events\n",
    "df = ak.from_parquet('Data_04Oct23/merged_nominal_scored.parquet')\n",
    "data = df[df.process_id==0]"
   ]
  },
  {
   "cell_type": "code",
   "execution_count": null,
   "id": "650db08d",
   "metadata": {},
   "outputs": [],
   "source": [
    "low_mass_mask = ak.where(data.Diphoton_mass <= 1000,True,False)\n",
    "min_mass_mask = ak.where(data.Diphoton_mass >= 55,True,False)\n",
    "data = data[low_mass_mask&min_mass_mask]\n",
    "print(len(data))"
   ]
  },
  {
   "cell_type": "code",
   "execution_count": null,
   "id": "bfad0bcd",
   "metadata": {},
   "outputs": [],
   "source": [
    "#Get list of all mass points with MY=90\n",
    "res_points = []\n",
    "for field in data.fields:\n",
    "    if 'MY_80' in field:\n",
    "        res_points.append(field)\n",
    "res_points.sort()\n",
    "for point in res_points:\n",
    "    print(point)"
   ]
  },
  {
   "cell_type": "code",
   "execution_count": null,
   "id": "800779ad",
   "metadata": {},
   "outputs": [],
   "source": [
    "#Load optimization results\n",
    "with open('Data_04Oct23/optim_results.json') as f_in:\n",
    "    optim_log = json.load(f_in)"
   ]
  },
  {
   "cell_type": "code",
   "execution_count": null,
   "id": "0aecbfe5",
   "metadata": {},
   "outputs": [],
   "source": [
    "#Get categories in actual usable format. Last line reverses the cat boundaries list\n",
    "cats = {}\n",
    "for entry in optim_log:\n",
    "    cats[entry['score']] = entry['category_boundaries'][::-1]"
   ]
  },
  {
   "cell_type": "code",
   "execution_count": null,
   "id": "88d8640d",
   "metadata": {},
   "outputs": [],
   "source": [
    "mgg_bins = np.linspace(65,180,23)"
   ]
  },
  {
   "cell_type": "code",
   "execution_count": null,
   "id": "1e8b8e4a",
   "metadata": {},
   "outputs": [],
   "source": [
    "peak_list = ['240']#,'280','300','320']\n",
    "\n",
    "for peak in peak_list:\n",
    "    tag = 'intermediate_transformed_score_NMSSM_XYH_Y_gg_H_bb_MX_{}_MY_90'.format(peak)\n",
    "    peak_mask = ak.where(data[tag]>0.99999)\n",
    "    peak_count = ak.count_nonzero(peak_mask)\n",
    "    h1 = Hist1D(data.Diphoton_mass[peak_mask], bins=mgg_bins, label=peak+': '+str(peak_count), overflow=False)\n",
    "    h1.plot()\n",
    "\n",
    "plt.yscale('log')\n",
    "plt.legend(loc='upper right')\n",
    "plt.ylabel('Count')\n",
    "plt.xlabel('Diphoton mass')"
   ]
  },
  {
   "cell_type": "code",
   "execution_count": null,
   "id": "55d6db87",
   "metadata": {},
   "outputs": [],
   "source": [
    "def cat_mask(df, score, low, high):\n",
    "    rtn_mask = (df[score] <= high) & (df[score] > low)\n",
    "    return rtn_mask"
   ]
  },
  {
   "cell_type": "code",
   "execution_count": null,
   "id": "92a630c6",
   "metadata": {},
   "outputs": [],
   "source": [
    "peaks = ['240','280','300','320','360','400','450','500','550','600','650','700','750','800','850','900','950','1000']\n",
    "for peak in peaks:\n",
    "    score='intermediate_transformed_score_NMSSM_XYH_Y_gg_H_bb_MX_{}_MY_90'.format(peak)\n",
    "    text='PNN Score MX{}'.format(peak)\n",
    "    h1 = Hist1D(data[score],bins=np.linspace(0.999,1.0001,100),label=text,color='black',overflow=False)\n",
    "    h1.plot()\n",
    "    \n",
    "    \"\"\"for cat in range(10):\n",
    "        print(cat)\n",
    "        print(cats[score][cat])\n",
    "        print('----------------')\n",
    "        if cat==0:\n",
    "            count=ak.count_nonzero(cat_mask(data, score, cats[score][cat], 1))\n",
    "        else:\n",
    "            count=ak.count_nonzero(cat_mask(data, score, cats[score][cat], cats[score][cat-1]))\n",
    "        plt.axvline(x=cats[score][cat], color='C%d'%cat, label='SR {}: {} events'.format(cat,count))\n",
    "        \"\"\"\n",
    "\n",
    "    plt.title('PNN Score Distribution for MX {} MY 90'.format(peak))\n",
    "    plt.legend(loc='upper left')\n",
    "    plt.ylabel('Data Count')\n",
    "    plt.xlabel('PNN Score')\n",
    "\n",
    "    plt.savefig('/home/users/iareed/public_html/XtoYH_plots/ABCD_plots/input_distributions/MX_{}_score.png'.format(peak))\n",
    "    plt.clf()"
   ]
  },
  {
   "cell_type": "code",
   "execution_count": null,
   "id": "865005e8",
   "metadata": {},
   "outputs": [],
   "source": [
    "peak = '240'\n",
    "tag = 'intermediate_transformed_score_NMSSM_XYH_Y_gg_H_bb_MX_{}_MY_90'.format(peak)\n",
    "\n",
    "for cat in range(10):\n",
    "    tmp_mask = cat_mask(data, tag, cats[tag][cat+1], cats[tag][cat])\n",
    "    print(cats[tag][cat+1])\n",
    "    blind_mask = ak.where((data.Diphoton_mass <= 82) | (data.Diphoton_mass >= 98), True,False)\n",
    "    cat_count = ak.count_nonzero(tmp_mask)\n",
    "    h1 = Hist1D(data.Diphoton_mass[tmp_mask], bins=mgg_bins, label='Cat {}: {}'.format(str(cat),str(cat_count)), overflow=False)\n",
    "\n",
    "    h1.plot()\n",
    "\n",
    "plt.yscale('log')\n",
    "plt.legend(loc='upper right')\n",
    "plt.title('Data Count for Top Catagories MX_{} MY_90'.format(peak))\n",
    "plt.ylabel('Data Count')\n",
    "plt.xlabel('Diphoton mass (GeV)')\n",
    "#plt.savefig('/home/users/iareed/public_html/XtoYH_plots/cat_plots/MX_{}.png'.format(peak))"
   ]
  },
  {
   "cell_type": "code",
   "execution_count": null,
   "id": "dc26746c",
   "metadata": {},
   "outputs": [],
   "source": [
    "scores=data.intermediate_transformed_score_NMSSM_XYH_Y_gg_H_bb_MX_1000_MY_800\n",
    "scores=np.sort(scores)[::-1]\n",
    "print(scores)"
   ]
  },
  {
   "cell_type": "code",
   "execution_count": null,
   "id": "3c9bdd01",
   "metadata": {},
   "outputs": [],
   "source": [
    "old_val = 10\n",
    "for score in range(100000):\n",
    "    new_val=scores[score]\n",
    "    if new_val==old_val:\n",
    "        continue\n",
    "    else:\n",
    "        print(new_val)\n",
    "        old_val=new_val"
   ]
  },
  {
   "cell_type": "code",
   "execution_count": null,
   "id": "b95b4d76",
   "metadata": {},
   "outputs": [],
   "source": [
    "scores=scores[::-1]\n",
    "print(scores)"
   ]
  },
  {
   "cell_type": "code",
   "execution_count": null,
   "id": "31a3684c",
   "metadata": {},
   "outputs": [],
   "source": [
    "len(data.event)"
   ]
  },
  {
   "cell_type": "code",
   "execution_count": null,
   "id": "80b4fde6",
   "metadata": {},
   "outputs": [],
   "source": [
    "len(np.unique(data.event[data.intermediate_transformed_score_NMSSM_XYH_Y_gg_H_bb_MX_240_MY_90>0.9999868869781494]))"
   ]
  },
  {
   "cell_type": "code",
   "execution_count": null,
   "id": "df046531",
   "metadata": {},
   "outputs": [],
   "source": [
    "data.year"
   ]
  },
  {
   "cell_type": "code",
   "execution_count": null,
   "id": "74d57823",
   "metadata": {},
   "outputs": [],
   "source": [
    "peaks = ['240','280','300','320','360','400','450','500','550','600','650','700','750','800','850','900','950','1000']\n",
    "for peak in peaks:\n",
    "    #print('Checking MX {} for empty regions'.format(peak))\n",
    "    tag = 'intermediate_transformed_score_NMSSM_XYH_Y_gg_H_bb_MX_{}_MY_90'.format(peak)\n",
    "    empty_cat_list = []\n",
    "    for cat in range(57):\n",
    "        tmp_mask = cat_mask(data, tag, cats[tag][cat+1], cats[tag][cat])\n",
    "        #print(cats[tag][cat+1])\n",
    "        cat_count = ak.count_nonzero(tmp_mask)\n",
    "        if cat_count==0:\n",
    "            empty_cat_list.append(cat)\n",
    "    #print('Found {} empty regions'.format(len(empty_cat_list)))\n",
    "    #print('They are {}'.format(empty_cat_list))\n",
    "    print('{} & {} & {} \\\\\\hline'.format(peak, len(empty_cat_list), empty_cat_list))"
   ]
  },
  {
   "cell_type": "code",
   "execution_count": null,
   "id": "13a30d0a",
   "metadata": {},
   "outputs": [],
   "source": [
    "peaks = ['240','280','300','320','360','400','450','500','550','600','650','700','750','800','850','900','950','1000']\n",
    "for peak in peaks:\n",
    "    #print('Checking MX {} for empty regions'.format(peak))\n",
    "    tag = 'intermediate_transformed_score_NMSSM_XYH_Y_gg_H_bb_MX_{}_MY_70'.format(peak)\n",
    "    empty_cat_list = []\n",
    "    for cat in range(57):\n",
    "        tmp_mask = cat_mask(data, tag, cats[tag][cat+1], cats[tag][cat])\n",
    "        #print(cats[tag][cat+1])\n",
    "        cat_count = ak.count_nonzero(tmp_mask)\n",
    "        if cat_count==0:\n",
    "            empty_cat_list.append(cat)\n",
    "    #print('Found {} empty regions'.format(len(empty_cat_list)))\n",
    "    #print('They are {}'.format(empty_cat_list))\n",
    "    print('{} & {} & {} \\\\\\hline'.format(peak, len(empty_cat_list), empty_cat_list))"
   ]
  },
  {
   "cell_type": "code",
   "execution_count": null,
   "id": "1297b87b",
   "metadata": {},
   "outputs": [],
   "source": [
    "peaks = ['240','280','300','320','360','400','450','500','550','600','650','700','750','800','850','900','950','1000']\n",
    "for peak in peaks:\n",
    "    #print('Checking MX {} for empty regions'.format(peak))\n",
    "    tag = 'intermediate_transformed_score_NMSSM_XYH_Y_gg_H_bb_MX_{}_MY_80'.format(peak)\n",
    "    empty_cat_list = []\n",
    "    for cat in range(57):\n",
    "        tmp_mask = cat_mask(data, tag, cats[tag][cat+1], cats[tag][cat])\n",
    "        #print(cats[tag][cat+1])\n",
    "        cat_count = ak.count_nonzero(tmp_mask)\n",
    "        if cat_count==0:\n",
    "            empty_cat_list.append(cat)\n",
    "    #print('Found {} empty regions'.format(len(empty_cat_list)))\n",
    "    #print('They are {}'.format(empty_cat_list))\n",
    "    print('{} & {} & {} \\\\\\hline'.format(peak, len(empty_cat_list), empty_cat_list))"
   ]
  },
  {
   "cell_type": "code",
   "execution_count": null,
   "id": "2049b474",
   "metadata": {},
   "outputs": [],
   "source": [
    "peaks = ['240','280','300','320','360','400','450','500','550','600','650','700','750','800','850','900','950','1000']\n",
    "for peak in peaks:\n",
    "    #print('Checking MX {} for empty regions'.format(peak))\n",
    "    tag = 'intermediate_transformed_score_NMSSM_XYH_Y_gg_H_bb_MX_{}_MY_100'.format(peak)\n",
    "    empty_cat_list = []\n",
    "    for cat in range(57):\n",
    "        tmp_mask = cat_mask(data, tag, cats[tag][cat+1], cats[tag][cat])\n",
    "        #print(cats[tag][cat+1])\n",
    "        cat_count = ak.count_nonzero(tmp_mask)\n",
    "        if cat_count==0:\n",
    "            empty_cat_list.append(cat)\n",
    "    #print('Found {} empty regions'.format(len(empty_cat_list)))\n",
    "    #print('They are {}'.format(empty_cat_list))\n",
    "    print('{} & {} & {} \\\\\\hline'.format(peak, len(empty_cat_list), empty_cat_list))"
   ]
  },
  {
   "cell_type": "code",
   "execution_count": null,
   "id": "f726bc57",
   "metadata": {},
   "outputs": [],
   "source": [
    "Look at normal DY and signal PNN score distribution"
   ]
  },
  {
   "cell_type": "code",
   "execution_count": null,
   "id": "17ad0a43",
   "metadata": {},
   "outputs": [],
   "source": []
  }
 ],
 "metadata": {
  "kernelspec": {
   "display_name": "Python 3 (ipykernel)",
   "language": "python",
   "name": "python3"
  },
  "language_info": {
   "codemirror_mode": {
    "name": "ipython",
    "version": 3
   },
   "file_extension": ".py",
   "mimetype": "text/x-python",
   "name": "python",
   "nbconvert_exporter": "python",
   "pygments_lexer": "ipython3",
   "version": "3.10.2"
  }
 },
 "nbformat": 4,
 "nbformat_minor": 5
}
