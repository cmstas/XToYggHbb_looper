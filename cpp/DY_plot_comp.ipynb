{
 "cells": [
  {
   "cell_type": "code",
   "execution_count": null,
   "id": "b379f066",
   "metadata": {},
   "outputs": [],
   "source": [
    "import awkward as ak\n",
    "import numpy as np\n",
    "\n",
    "import json\n",
    "\n",
    "import matplotlib.pyplot as plt\n",
    "from yahist import Hist1D, Hist2D\n",
    "#import useful packages"
   ]
  },
  {
   "cell_type": "code",
   "execution_count": null,
   "id": "d8e67a85",
   "metadata": {},
   "outputs": [],
   "source": [
    "df_std = ak.from_parquet('/home/users/joocain/public_html/XtoYH_pNN/fullRun2_PR10_weights1111011_lowMassMode_noHLTBitInMC/trainedPNN_nomass_full/merged_nominal.parquet',\n",
    "                         columns=['process_id','Diphoton_mass','weight_central'])\n",
    "df_std = df_std[(df_std.Diphoton_mass <= 1000)&(df_std.Diphoton_mass >=55)]\n",
    "dy_std = df_std[df_std.process_id==14]\n",
    "data_std = df_std[df_std.process_id==0]\n",
    "print(len(dy_std))\n",
    "print(len(data_std))\n",
    "del df_std"
   ]
  },
  {
   "cell_type": "code",
   "execution_count": null,
   "id": "2e601ef2",
   "metadata": {},
   "outputs": [],
   "source": [
    "#Load dataframe and keep only the \"Data\" events\n",
    "df_inv = ak.from_parquet('Data_and_DY_04Oct23/merged_nominal_data_and_dy.parquet',\n",
    "                         columns=['process_id','Diphoton_mass','Diphoton_pt','weight_central'])\n",
    "df_inv = df_inv[(df_inv.Diphoton_mass <= 1000)&(df_inv.Diphoton_mass >=55)]\n",
    "dy_inv = df_inv[df_inv.process_id==14]\n",
    "data_inv = df_inv[df_inv.process_id==0]\n",
    "print(len(dy_inv))\n",
    "print(len(data_inv))\n",
    "del df_inv"
   ]
  },
  {
   "cell_type": "code",
   "execution_count": null,
   "id": "caf339a5",
   "metadata": {},
   "outputs": [],
   "source": [
    "df_gen = ak.from_parquet('/ceph/cms/store/user/evourlio/XToYggHbbOutput/fullRun2_PR10_weights1111011_lowMassMode_noHLTBitInMC/merged_nominal.parquet',\n",
    "                         columns=['weight_central','Diphoton_mass','Diphoton_pt','process_id','LeadPhoton_genPartFlav','SubleadPhoton_genPartFlav'])\n",
    "df_gen = df_gen[(df_gen.Diphoton_mass <= 1000)&(df_gen.Diphoton_mass >=55)]\n",
    "dy_gen = df_gen[df_gen.process_id==14]\n",
    "data_gen = df_gen[df_gen.process_id==0]\n",
    "del df_gen"
   ]
  },
  {
   "cell_type": "code",
   "execution_count": null,
   "id": "33c8a91e",
   "metadata": {},
   "outputs": [],
   "source": [
    "dy_gen.fields"
   ]
  },
  {
   "cell_type": "code",
   "execution_count": null,
   "id": "88d8640d",
   "metadata": {},
   "outputs": [],
   "source": [
    "mgg_bins = np.linspace(55,135,50)"
   ]
  },
  {
   "cell_type": "code",
   "execution_count": null,
   "id": "1e8b8e4a",
   "metadata": {},
   "outputs": [],
   "source": [
    "h1 = Hist1D(dy_std.Diphoton_mass, bins=mgg_bins, weights=dy_std.weight_central, label='DY (MC) Std: {:.0f}'.format(ak.sum(dy_std.weight_central)), overflow=False)\n",
    "h2 = Hist1D(dy_inv.Diphoton_mass, bins=mgg_bins, weights=dy_inv.weight_central, label='DY (MC) Inv: {:.0f}'.format(ak.sum(dy_inv.weight_central)), overflow=False)\n",
    "h1.plot()\n",
    "h2.plot()\n",
    "\n",
    "plt.yscale('log')\n",
    "plt.legend(loc='upper right')\n",
    "plt.title('DY Diphoton Mass Distribution')\n",
    "plt.ylabel('Count (weighted)')\n",
    "plt.xlabel('Diphoton mass (GeV)')\n",
    "#plt.savefig('/home/users/iareed/public_html/XtoYH_plots/ABCD_plots/input_distributions/DY_mgg_comp.png')\n"
   ]
  },
  {
   "cell_type": "code",
   "execution_count": null,
   "id": "68eba79a",
   "metadata": {},
   "outputs": [],
   "source": [
    "h1 = Hist1D(dy_std.Diphoton_mass, bins=mgg_bins, weights=dy_std.weight_central, label='DY (MC) Std {:.0f}'.format(ak.sum(dy_std.weight_central)), overflow=False).normalize()\n",
    "h2 = Hist1D(dy_gen.Diphoton_mass, bins=mgg_bins, weights=dy_gen.weight_central, label='DY (MC) Gen {:.0f}'.format(ak.sum(dy_gen.weight_central)), overflow=False).normalize()\n",
    "h1.plot(color='blue')\n",
    "h2.plot(color='red')\n",
    "\n",
    "plt.yscale('log')\n",
    "plt.legend(loc='upper right')\n",
    "plt.title('Diphoton Mass Distribution (Nomalized)')\n",
    "plt.ylabel('Fraction (weighted)')\n",
    "plt.xlabel('Diphoton mass (GeV)')\n",
    "#plt.savefig('/home/users/iareed/public_html/XtoYH_plots/ABCD_plots/input_distributions/DY_mgg_comp_norm.png',dpi=300)\n"
   ]
  },
  {
   "cell_type": "code",
   "execution_count": null,
   "id": "d6729606",
   "metadata": {},
   "outputs": [],
   "source": [
    "h1 = Hist1D(dy_inv.Diphoton_mass, bins=mgg_bins, weights=dy_inv.weight_central, label='Data Std', overflow=False)\n",
    "h2 = Hist1D(data_inv.Diphoton_mass, bins=mgg_bins, weights=data_inv.weight_central, label='Data Inv', overflow=False)\n",
    "h1.plot()\n",
    "h2.plot()\n",
    "\n",
    "plt.yscale('log')\n",
    "plt.legend(loc='upper right')\n",
    "plt.title('Data Diphoton Mass Distribution')\n",
    "plt.ylabel('Fraction (weighted)')\n",
    "plt.xlabel('Diphoton mass (GeV)')\n",
    "#plt.savefig('/home/users/iareed/public_html/XtoYH_plots/ABCD_plots/input_distributions/data_mgg_comp.png',dpi=300)\n"
   ]
  },
  {
   "cell_type": "code",
   "execution_count": null,
   "id": "a7e6eee0",
   "metadata": {},
   "outputs": [],
   "source": [
    "h1 = Hist1D(dy_inv.Diphoton_mass, bins=mgg_bins, weights=dy_inv.weight_central, label='DY Inv {:.0f}'.format(ak.sum(dy_inv.weight_central)), overflow=False).normalize()\n",
    "h2 = Hist1D(data_inv.Diphoton_mass, bins=mgg_bins, weights=data_inv.weight_central, label='Data Inv {:.0f}'.format(ak.sum(data_inv.weight_central)), overflow=False).normalize()\n",
    "\n",
    "h1.plot(color='red')\n",
    "h2.plot(color='black')\n",
    "\n",
    "plt.yscale('log')\n",
    "plt.legend(loc='upper right')\n",
    "plt.title('Diphoton Mass Distribution (Nomalized)')\n",
    "plt.ylabel('Fraction (weighted)')\n",
    "plt.xlabel('Diphoton mass (GeV)')\n",
    "#plt.savefig('/home/users/iareed/public_html/XtoYH_plots/ABCD_plots/input_distributions/data_dy_mgg_comp_norm.png',dpi=300)\n"
   ]
  },
  {
   "cell_type": "code",
   "execution_count": null,
   "id": "107a5fbb",
   "metadata": {},
   "outputs": [],
   "source": [
    "pt_mask = ak.where((dy_gen.Diphoton_pt>=55)&(dy_gen.Diphoton_pt<70),True,False)\n",
    "h1 = Hist1D(dy_gen.Diphoton_mass[pt_mask],\n",
    "            bins=mgg_bins, weights=dy_gen.weight_central[pt_mask],\n",
    "            label='DY std {:.0f}'.format(ak.sum(dy_gen.weight_central[pt_mask])),\n",
    "            overflow=False).normalize()\n",
    "h1.plot()"
   ]
  },
  {
   "cell_type": "code",
   "execution_count": null,
   "id": "1baa1c01",
   "metadata": {},
   "outputs": [],
   "source": [
    "mgg_bins = np.linspace(55,135,20)"
   ]
  },
  {
   "cell_type": "code",
   "execution_count": null,
   "id": "fdbe722b",
   "metadata": {},
   "outputs": [],
   "source": [
    "pt_edges = [65,85,105,125,np.inf]\n",
    "for i in range(4):\n",
    "    pt_mask = ak.where((dy_gen.Diphoton_pt>=pt_edges[i])&(dy_gen.Diphoton_pt<[pt_edges[i+1]]),True,False)\n",
    "    h1 = Hist1D(dy_gen.Diphoton_mass[pt_mask],\n",
    "            bins=mgg_bins, weights=dy_gen.weight_central[pt_mask],\n",
    "            label='Pt {}-{} GeV: {:.0f} Events'.format(pt_edges[i],pt_edges[i+1],ak.sum(dy_gen.weight_central[pt_mask])),\n",
    "            overflow=False).normalize()\n",
    "    h1.plot()\n",
    "plt.yscale('log')\n",
    "plt.legend(loc='lower center')\n",
    "plt.title('DY (Std) m_gg binned by pt_gg (Nomalized)')\n",
    "plt.ylabel('Fraction (weighted)')\n",
    "plt.xlabel('Diphoton mass (GeV)')"
   ]
  },
  {
   "cell_type": "code",
   "execution_count": null,
   "id": "b175a8bf",
   "metadata": {},
   "outputs": [],
   "source": [
    "pt_edges = [65,85,105,125,np.inf]\n",
    "for i in range(4):\n",
    "    pt_mask = ak.where((data_gen.Diphoton_pt>=pt_edges[i])&(data_gen.Diphoton_pt<[pt_edges[i+1]]),True,False)\n",
    "    h1 = Hist1D(data_gen.Diphoton_mass[pt_mask],\n",
    "            bins=mgg_bins, weights=data_gen.weight_central[pt_mask],\n",
    "            label='Pt {}-{} GeV: {:.0f} Events'.format(pt_edges[i],pt_edges[i+1],ak.sum(data_gen.weight_central[pt_mask])),\n",
    "            overflow=False).normalize()\n",
    "    h1.plot()\n",
    "plt.yscale('log')\n",
    "plt.legend(loc='lower center')\n",
    "plt.title('Data (Std) m_gg binned by pt_gg (Nomalized)')\n",
    "plt.ylabel('Fraction (weighted)')\n",
    "plt.xlabel('Diphoton mass (GeV)')"
   ]
  },
  {
   "cell_type": "code",
   "execution_count": null,
   "id": "e76a352c",
   "metadata": {},
   "outputs": [],
   "source": [
    "pt_edges = [65,85,105,125,np.inf]\n",
    "for i in range(4):\n",
    "    pt_mask = ak.where((data_inv.Diphoton_pt>=pt_edges[i])&(data_inv.Diphoton_pt<[pt_edges[i+1]]),True,False)\n",
    "    h1 = Hist1D(data_inv.Diphoton_mass[pt_mask],\n",
    "            bins=mgg_bins, weights=data_inv.weight_central[pt_mask],\n",
    "            label='Pt {}-{} GeV: {:.0f} Events'.format(pt_edges[i],pt_edges[i+1],ak.sum(data_inv.weight_central[pt_mask])),\n",
    "            overflow=False).normalize()\n",
    "    h1.plot()\n",
    "plt.yscale('log')\n",
    "plt.legend(loc='lower center')\n",
    "plt.title('Data (Inv) m_gg binned by pt_gg (Nomalized)')\n",
    "plt.ylabel('Fraction (weighted)')\n",
    "plt.xlabel('Diphoton mass (GeV)')"
   ]
  },
  {
   "cell_type": "code",
   "execution_count": null,
   "id": "ac70b898",
   "metadata": {},
   "outputs": [],
   "source": [
    "dy_gen.fields"
   ]
  },
  {
   "cell_type": "code",
   "execution_count": null,
   "id": "90e5ad8e",
   "metadata": {},
   "outputs": [],
   "source": [
    "lead_id=dy_gen.LeadPhoton_genPartFlav\n",
    "sub_id=dy_gen.SubleadPhoton_genPartFlav\n",
    "gen_count=len(lead_id)\n",
    "print('Total DY entries that have gen info: {}'.format(len(dy_gen)))\n",
    "print('Gen Part Ids for the Lead Photon {}'.format(np.unique(lead_id)))\n",
    "print('Gen Part Ids for the Sub Photon {}'.format(np.unique(sub_id)))\n",
    "lead_fake_count = ak.count_nonzero(lead_id==11)\n",
    "lead_fake_rate = lead_fake_count/gen_count*100\n",
    "print('There are {} fake leading photons'.format(lead_fake_count))\n",
    "print('Lead Photons are faked by electrons {:.1f}% of the time'.format(lead_fake_rate))\n",
    "sub_fake_count = ak.count_nonzero(sub_id==11)\n",
    "sub_fake_rate = sub_fake_count/gen_count*100\n",
    "print('There are {} fake subleading photons'.format(sub_fake_count))\n",
    "print('Sublead Photons are faked by electrons {:.1f}% of the time'.format(sub_fake_rate))\n",
    "half_fakes = len(dy_gen[(lead_id==11)|(sub_id==11)])\n",
    "print('There are {} events with at least 1 fake photon'.format(half_fakes))\n",
    "full_fakes = len(dy_gen[(lead_id==11)&(sub_id==11)])\n",
    "print('There are {} events with 2 fake photons'.format(full_fakes))"
   ]
  },
  {
   "cell_type": "code",
   "execution_count": null,
   "id": "c66ad2c1",
   "metadata": {},
   "outputs": [],
   "source": [
    "all_fake=dy_gen[(lead_id==11)&(sub_id==11)]"
   ]
  },
  {
   "cell_type": "code",
   "execution_count": null,
   "id": "7d2dd83b",
   "metadata": {},
   "outputs": [],
   "source": [
    "h1 = Hist1D(dy_inv.Diphoton_mass, bins=mgg_bins, \n",
    "            weights=dy_inv.weight_central, \n",
    "            label='DY (MC) Inv {:.0f}'.format(ak.sum(dy_inv.weight_central)),\n",
    "            overflow=False).normalize()\n",
    "h2 = Hist1D(all_fake.Diphoton_mass, bins=mgg_bins,\n",
    "            weights=all_fake.weight_central,\n",
    "            label='DY (MC) Gen Matched {:.0f}'.format(ak.sum(all_fake.weight_central)),\n",
    "            overflow=False).normalize()\n",
    "h1.plot(color='red')\n",
    "h2.plot(color='green')\n",
    "\n",
    "plt.yscale('log')\n",
    "plt.legend(loc='upper right')\n",
    "plt.title('Diphoton Mass Distribution (Nomalized)')\n",
    "plt.ylabel('Fraction (weighted)')\n",
    "plt.xlabel('Diphoton mass (GeV)')\n",
    "plt.savefig('/home/users/iareed/public_html/XtoYH_plots/ABCD_plots/input_distributions/gen_match_inv_mgg_comp_norm.png',dpi=300)\n"
   ]
  },
  {
   "cell_type": "code",
   "execution_count": null,
   "id": "41ec7a3f",
   "metadata": {},
   "outputs": [],
   "source": [
    "def falling_gauss(x,mu=h1.mean(),sigma=h1.std(),A=h1.counts.max(),B=(h1.counts.max())):\n",
    "    return A*np.exp(-(x-mu)**2/2/sigma**2)+(B*np.exp(-0.2*x))"
   ]
  },
  {
   "cell_type": "code",
   "execution_count": null,
   "id": "48a389a5",
   "metadata": {},
   "outputs": [],
   "source": [
    "h1 = Hist1D(dy_inv.Diphoton_mass, bins=mgg_bins, \n",
    "            weights=dy_inv.weight_central, \n",
    "            label='DY (MC) Inv {:.0f}'.format(ak.sum(dy_inv.weight_central)),\n",
    "            overflow=False).normalize()\n",
    "\n",
    "h1.plot(color='blue')\n",
    "fit=h1.fit('gaus')\n",
    "plt.title('Diphoton Mass Distribution (Nomalized)')\n",
    "plt.ylabel('Fraction (weighted)')\n",
    "plt.xlabel('Diphoton mass (GeV)')\n",
    "#plt.savefig('/home/users/iareed/public_html/XtoYH_plots/ABCD_plots/input_distributions/inv_mgg_fit_norm.png',dpi=300)\n",
    "\n"
   ]
  },
  {
   "cell_type": "code",
   "execution_count": null,
   "id": "da86ccee",
   "metadata": {},
   "outputs": [],
   "source": [
    "h1 = Hist1D(all_fake.Diphoton_mass, bins=mgg_bins,\n",
    "            weights=all_fake.weight_central,\n",
    "            label='DY (MC) Gen Matched {:.0f}'.format(ak.sum(all_fake.weight_central)),\n",
    "            overflow=False).normalize()\n",
    "h1.plot(color='blue')\n",
    "fit=h1.fit('gaus')\n",
    "plt.title('Diphoton Mass Distribution (Nomalized)')\n",
    "plt.ylabel('Fraction (weighted)')\n",
    "plt.xlabel('Diphoton mass (GeV)')\n",
    "#plt.savefig('/home/users/iareed/public_html/XtoYH_plots/ABCD_plots/input_distributions/gen_match_mgg_fit_norm.png',dpi=300)\n",
    "\n"
   ]
  },
  {
   "cell_type": "code",
   "execution_count": null,
   "id": "42df4198",
   "metadata": {},
   "outputs": [],
   "source": []
  },
  {
   "cell_type": "code",
   "execution_count": null,
   "id": "c68f5bd7",
   "metadata": {},
   "outputs": [],
   "source": []
  },
  {
   "cell_type": "code",
   "execution_count": null,
   "id": "2cd79d2f",
   "metadata": {},
   "outputs": [],
   "source": []
  },
  {
   "cell_type": "code",
   "execution_count": null,
   "id": "604aa353",
   "metadata": {},
   "outputs": [],
   "source": [
    "h1 = Hist1D(df_gen.Diphoton_mass, bins=mgg_bins, weights=df_gen.weight_central, label='DY Std', overflow=False).normalize()\n",
    "h2 = Hist1D(dy_inv.Diphoton_mass, bins=mgg_bins, weights=dy_inv.weight_central, label='DY Inv', overflow=False).normalize()\n",
    "h3 = Hist1D(fakes.Diphoton_mass, bins=mgg_bins, weights=fakes.weight_central, label='DY Fakes in Std', overflow=False).normalize()\n",
    "\n",
    "h1.plot()\n",
    "h2.plot()\n",
    "h3.plot()\n",
    "\n",
    "plt.yscale('log')\n",
    "plt.legend(loc='upper right')\n",
    "plt.title('DY Diphoton Mass Distribution (Nomalized)')\n",
    "plt.ylabel('Fraction (weighted)')\n",
    "plt.xlabel('Diphoton mass (GeV)')\n",
    "#plt.savefig('/home/users/iareed/public_html/XtoYH_plots/ABCD_plots/input_distributions/DY_mgg_comp_norm.png',dpi=300)\n"
   ]
  },
  {
   "cell_type": "code",
   "execution_count": null,
   "id": "4567dfd4",
   "metadata": {},
   "outputs": [],
   "source": [
    "h1 = Hist1D(dy_std.Diphoton_mass, bins=mgg_bins, weights=dy_std.weight_central, label='DY Std', overflow=False)\n",
    "h2 = Hist1D(dy_inv.Diphoton_mass, bins=mgg_bins, weights=dy_inv.weight_central, label='DY Inv', overflow=False)\n",
    "h3 = Hist1D(fakes.Diphoton_mass, bins=mgg_bins, weights=fakes.weight_central, label='DY Fakes in Std', overflow=False)\n",
    "\n",
    "h1.plot()\n",
    "h2.plot()\n",
    "h3.plot()\n",
    "\n",
    "plt.yscale('log')\n",
    "plt.legend(loc='upper right')\n",
    "plt.title('DY Diphoton Mass Distribution')\n",
    "plt.ylabel('Fraction (weighted)')\n",
    "plt.xlabel('Diphoton mass (GeV)')\n",
    "#plt.savefig('/home/users/iareed/public_html/XtoYH_plots/ABCD_plots/input_distributions/DY_mgg_comp_norm.png',dpi=300)"
   ]
  },
  {
   "cell_type": "code",
   "execution_count": null,
   "id": "8c00bbb8",
   "metadata": {},
   "outputs": [],
   "source": [
    "def fit_function(x, amplitude, mean, std_dev, background):\n",
    "    return amplitude * np.exp(-0.5 * ((x - mean) / std_dev) ** 2) + background * np.exp(-0.2 * x)\n"
   ]
  },
  {
   "cell_type": "code",
   "execution_count": null,
   "id": "9b0070c2",
   "metadata": {},
   "outputs": [],
   "source": [
    "def falling_gauss(x,mu=h1.mean(),sigma=h1.std(),A=h1.counts.max(),B=(h1.counts.max()/2)):\n",
    "    return A*np.exp(-(x-mu)**2/2/sigma**2)+(B*np.exp(-0.2*x))"
   ]
  },
  {
   "cell_type": "code",
   "execution_count": null,
   "id": "632f27fc",
   "metadata": {},
   "outputs": [],
   "source": [
    "h1 = Hist1D(dy_inv.Diphoton_mass, bins=np.linspace(80,100,50), weights=dy_inv.weight_central, label='DY Std', overflow=False).normalize()\n",
    "h1.plot()\n",
    "fit=h1.fit(gauss)\n",
    "h2 = Hist1D(dy_std.Diphoton_mass, bins=np.linspace(80,100,50), weights=dy_std.weight_central, label='DY Std', overflow=False).normalize()\n",
    "h2.plot()\n",
    "fit=h2.fit(gauss)\n",
    "#plt.savefig('/home/users/iareed/public_html/XtoYH_plots/ABCD_plots/input_distributions/DY_mgg_comp_norm.png',dpi=300)"
   ]
  },
  {
   "cell_type": "code",
   "execution_count": null,
   "id": "0438c022",
   "metadata": {},
   "outputs": [],
   "source": [
    "h2 = Hist1D(dy_std.Diphoton_mass, bins=np.linspace(80,100,50), weights=dy_std.weight_central, label='DY Std', overflow=False)\n",
    "h2.plot()\n",
    "fit=h2.fit(gauss)"
   ]
  },
  {
   "cell_type": "code",
   "execution_count": null,
   "id": "f602fb51",
   "metadata": {},
   "outputs": [],
   "source": []
  },
  {
   "cell_type": "code",
   "execution_count": null,
   "id": "03bc4950",
   "metadata": {},
   "outputs": [],
   "source": []
  },
  {
   "cell_type": "code",
   "execution_count": null,
   "id": "3a5251f6",
   "metadata": {},
   "outputs": [],
   "source": [
    "from scipy.optimize import curve_fit"
   ]
  },
  {
   "cell_type": "code",
   "execution_count": null,
   "id": "2ada6752",
   "metadata": {},
   "outputs": [],
   "source": []
  },
  {
   "cell_type": "code",
   "execution_count": null,
   "id": "248ed71c",
   "metadata": {},
   "outputs": [],
   "source": [
    "def gaussian(x, amplitude, mean, stddev):\n",
    "    return amplitude * np.exp(-(x - mean)**2 / (2 * stddev**2))\n",
    "\n",
    "def background(x, slope, intercept):\n",
    "    return slope * x + intercept\n",
    "\n",
    "x = mgg_bins\n",
    "gaussian_data = gaussian(x, amplitude=1.0, mean=5.0, stddev=1.0)\n",
    "background_data = background(x, slope=-0.1, intercept=1.0)\n",
    "\n",
    "y = gaussian_data + background_data\n",
    "\n",
    "def combined_function(x, amplitude, mean, stddev, slope, intercept):\n",
    "    return gaussian(x, amplitude, mean, stddev) + background(x, slope, intercept)"
   ]
  },
  {
   "cell_type": "code",
   "execution_count": null,
   "id": "74e67fe5",
   "metadata": {},
   "outputs": [],
   "source": [
    "import pyarrow.parquet as pq\n",
    "\n",
    "# Define the Parquet file path\n",
    "#parquet_file_path = \"/home/users/joocain/public_html/XtoYH_pNN/fullRun2_PR10_weights1111011_lowMassMode_noHLTBitInMC/trainedPNN_nomass_full/merged_nominal.parquet\"\n",
    "parquet_file_path = \"/ceph/cms/store/user/evourlio/XToYggHbbOutput/fullRun2_PR10_weights1111011_lowMassMode_noHLTBitInMC/merged_nominal.parquet\"\n",
    "#parquet_file_path='/home/users/joocain/public_html/XtoYH_pNN/fullRun2_PR10_weights1111011_lowMassMode_noHLTBitInMC/trainedPNN_nomass_full/merged_nominal.parquet'\n",
    "\n",
    "# Open the Parquet file\n",
    "parquet_file = pq.ParquetFile(parquet_file_path)\n",
    "\n",
    "# Get the schema, which contains column names\n",
    "schema = parquet_file.schema\n",
    "\n",
    "# Extract the column names from the schema\n",
    "column_names = schema.names\n",
    "\n",
    "# Print the column names\n",
    "for column in column_names:\n",
    "    print(column)"
   ]
  },
  {
   "cell_type": "code",
   "execution_count": null,
   "id": "cc854cca",
   "metadata": {},
   "outputs": [],
   "source": []
  }
 ],
 "metadata": {
  "kernelspec": {
   "display_name": "Python 3 (ipykernel)",
   "language": "python",
   "name": "python3"
  },
  "language_info": {
   "codemirror_mode": {
    "name": "ipython",
    "version": 3
   },
   "file_extension": ".py",
   "mimetype": "text/x-python",
   "name": "python",
   "nbconvert_exporter": "python",
   "pygments_lexer": "ipython3",
   "version": "3.10.2"
  }
 },
 "nbformat": 4,
 "nbformat_minor": 5
}
